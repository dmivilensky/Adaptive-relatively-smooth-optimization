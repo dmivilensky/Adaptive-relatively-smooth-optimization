{
 "cells": [
  {
   "cell_type": "markdown",
   "metadata": {},
   "source": [
    "# Intersection of ellipsoids optimization problem\n",
    "### Relatively continuous optimization approach\n",
    "based on the example from <a href=\"https://arxiv.org/pdf/1710.04718.pdf\">paper</a>"
   ]
  },
  {
   "cell_type": "code",
   "execution_count": 1,
   "metadata": {},
   "outputs": [],
   "source": [
    "import numpy as np\n",
    "from scipy.optimize import newton\n",
    "from scipy.spatial.distance import squareform\n",
    "import matplotlib.pyplot as plt\n",
    "from collections import defaultdict"
   ]
  },
  {
   "cell_type": "code",
   "execution_count": 2,
   "metadata": {},
   "outputs": [
    {
     "name": "stdout",
     "output_type": "stream",
     "text": [
      "A_1 is semi-definite\n",
      "A_2 is semi-definite\n",
      "A_3 is semi-definite\n",
      "A_4 is semi-definite\n",
      "A_5 is semi-definite\n",
      "A_6 is semi-definite\n",
      "A_7 is semi-definite\n",
      "A_8 is semi-definite\n",
      "A_9 is semi-definite\n",
      "A_10 is semi-definite\n",
      "A_11 is semi-definite\n",
      "A_12 is semi-definite\n",
      "A_13 is semi-definite\n",
      "A_14 is semi-definite\n",
      "A_15 is semi-definite\n",
      "A_16 is semi-definite\n",
      "A_17 is semi-definite\n",
      "A_18 is semi-definite\n",
      "A_19 is semi-definite\n",
      "A_20 is semi-definite\n",
      "A_21 is semi-definite\n",
      "A_22 is semi-definite\n",
      "A_23 is semi-definite\n",
      "A_24 is semi-definite\n",
      "A_25 is semi-definite\n",
      "A_26 is semi-definite\n",
      "A_27 is semi-definite\n",
      "A_28 is semi-definite\n",
      "A_29 is semi-definite\n",
      "A_30 is semi-definite\n",
      "A_31 is semi-definite\n",
      "A_32 is semi-definite\n",
      "A_33 is semi-definite\n",
      "A_34 is semi-definite\n",
      "A_35 is semi-definite\n",
      "A_36 is semi-definite\n",
      "A_37 is semi-definite\n",
      "A_38 is semi-definite\n",
      "A_39 is semi-definite\n",
      "A_40 is semi-definite\n",
      "A_41 is semi-definite\n",
      "A_42 is semi-definite\n",
      "A_43 is semi-definite\n",
      "A_44 is semi-definite\n",
      "A_45 is semi-definite\n",
      "A_46 is semi-definite\n",
      "A_47 is semi-definite\n",
      "A_48 is semi-definite\n",
      "A_49 is semi-definite\n",
      "A_50 is semi-definite\n",
      "A_51 is semi-definite\n",
      "A_52 is semi-definite\n",
      "A_53 is semi-definite\n",
      "A_54 is semi-definite\n",
      "A_55 is semi-definite\n",
      "A_56 is semi-definite\n",
      "A_57 is semi-definite\n",
      "A_58 is semi-definite\n",
      "A_59 is semi-definite\n",
      "A_60 is semi-definite\n",
      "A_61 is semi-definite\n",
      "A_62 is semi-definite\n",
      "A_63 is semi-definite\n",
      "A_64 is semi-definite\n",
      "A_65 is semi-definite\n",
      "A_66 is semi-definite\n",
      "A_67 is semi-definite\n",
      "A_68 is semi-definite\n",
      "A_69 is semi-definite\n",
      "A_70 is semi-definite\n",
      "A_71 is semi-definite\n",
      "A_72 is semi-definite\n",
      "A_73 is semi-definite\n",
      "A_74 is semi-definite\n",
      "A_75 is semi-definite\n",
      "A_76 is semi-definite\n",
      "A_77 is semi-definite\n",
      "A_78 is semi-definite\n",
      "A_79 is semi-definite\n",
      "A_80 is semi-definite\n",
      "A_81 is semi-definite\n",
      "A_82 is semi-definite\n",
      "A_83 is semi-definite\n",
      "A_84 is semi-definite\n",
      "A_85 is semi-definite\n",
      "A_86 is semi-definite\n",
      "A_87 is semi-definite\n",
      "A_88 is semi-definite\n",
      "A_89 is semi-definite\n",
      "A_90 is semi-definite\n",
      "A_91 is semi-definite\n",
      "A_92 is semi-definite\n",
      "A_93 is semi-definite\n",
      "A_94 is semi-definite\n",
      "A_95 is semi-definite\n",
      "A_96 is semi-definite\n",
      "A_97 is semi-definite\n",
      "A_98 is semi-definite\n",
      "A_99 is semi-definite\n",
      "A_100 is semi-definite\n",
      "\n",
      "sigma = 2585.185586799386\n",
      "rho = 569.1444194808525\n",
      "gamma = 40.47696546138589\n"
     ]
    }
   ],
   "source": [
    "np.random.seed(7)\n",
    "\n",
    "n = 100\n",
    "m = 100\n",
    "\n",
    "A = np.zeros(shape=(n, m, m))\n",
    "b =  np.random.random((n, m))\n",
    "c = np.random.random(n)\n",
    "\n",
    "spectral_radiuses = np.array([])\n",
    "\n",
    "for i in range(n):\n",
    "    A[i] = squareform(np.random.random(m * (m - 1) // 2))\n",
    "    eigen_values = np.linalg.eigvals(A[i])\n",
    "    spectral_radiuses = np.append(spectral_radiuses, np.abs(eigen_values).max())\n",
    "    print(f\"A_{i+1} {('is' if not np.all(eigen_values > 0) else 'isn`t')} semi-definite\")\n",
    "\n",
    "sigma = np.power(spectral_radiuses, 2).max()\n",
    "rho = 2 * max(np.linalg.norm(A[i] @ b[i], 2) for i in range(n))\n",
    "gamma = max(np.linalg.norm(b[i], 2)**2 for i in range(n))\n",
    "\n",
    "print()\n",
    "print(f'sigma = {sigma}')\n",
    "print(f'rho = {rho}')\n",
    "print(f'gamma = {gamma}')"
   ]
  },
  {
   "cell_type": "code",
   "execution_count": 3,
   "metadata": {},
   "outputs": [],
   "source": [
    "h = lambda x: sigma/4 * np.linalg.norm(x, 2)**4 +\\\n",
    "                rho/3 * np.linalg.norm(x, 2)**3 +\\\n",
    "              gamma/2 * np.linalg.norm(x, 2)**2\n",
    "dh = lambda x: sigma * x * np.linalg.norm(x, 2)**2 + rho * x * np.linalg.norm(x, 2) + gamma * x\n",
    "\n",
    "def V(y, x):\n",
    "    return h(y) - h(x) - np.dot(dh(x), y - x)"
   ]
  },
  {
   "cell_type": "code",
   "execution_count": 4,
   "metadata": {},
   "outputs": [],
   "source": [
    "f = lambda x: (0.5 * (np.expand_dims(x, axis=0) @ A @ x).T + b @ x + c).max()\n",
    "def df(x):\n",
    "    i = (0.5 * (np.expand_dims(x, axis=0) @ A @ x).T + b @ x + c).argmax()\n",
    "    return A[i] @ x + b[i]"
   ]
  },
  {
   "cell_type": "code",
   "execution_count": 5,
   "metadata": {},
   "outputs": [],
   "source": [
    "def solve_subproblem(c):\n",
    "    th = newton(\n",
    "        lambda th: (\n",
    "            sigma * np.linalg.norm(c, 2)**2 * th**3 +\\\n",
    "            rho * np.linalg.norm(c, 2) * th**2 + gamma * th) - 1, \n",
    "        0, tol=1e-10, maxiter=400\n",
    "    )\n",
    "    return -th * c"
   ]
  },
  {
   "cell_type": "code",
   "execution_count": 6,
   "metadata": {},
   "outputs": [],
   "source": [
    "x0 = np.random.random(m) * 1e-3"
   ]
  },
  {
   "cell_type": "code",
   "execution_count": 7,
   "metadata": {},
   "outputs": [],
   "source": [
    "def optimizer(step):\n",
    "    def wrapper(x, T, *args, **kwargs):\n",
    "        state = defaultdict(list)\n",
    "        state['x'] = x.copy()\n",
    "        state['x_'] = x.copy()\n",
    "        \n",
    "        for t in range(T):\n",
    "            if not step(state, *args, **kwargs):\n",
    "                break\n",
    "        \n",
    "        return len(state['f-all']), state['x'], {k: np.array(v) for k, v in state.items() if k[0] != 'x'}\n",
    "    \n",
    "    return wrapper"
   ]
  },
  {
   "cell_type": "code",
   "execution_count": 8,
   "metadata": {},
   "outputs": [],
   "source": [
    "@optimizer\n",
    "def gd(state, L=1):\n",
    "    \"\"\"\n",
    "    Gradient Descent for Relatively Continuous Problems\n",
    "    \"\"\"\n",
    "    state['f-all'].append(f(state['x']))\n",
    "    state['x'] = solve_subproblem(df(state['x']) / L - dh(state['x']))\n",
    "    \n",
    "    return True"
   ]
  },
  {
   "cell_type": "code",
   "execution_count": 9,
   "metadata": {},
   "outputs": [],
   "source": [
    "R = 10"
   ]
  },
  {
   "cell_type": "code",
   "execution_count": 10,
   "metadata": {},
   "outputs": [],
   "source": [
    "@optimizer\n",
    "def alg1(state, L=1, zeta=1.7, R=R, eps=8e-1, last=False):\n",
    "    \"\"\"\n",
    "    Algorithm 1 for Relatively Continuous Problems\n",
    "    \"\"\"\n",
    "    if 'S' in state:\n",
    "        f_val = f(state['x'] / state['S'][-1])\n",
    "    else:\n",
    "        f_val = f(state['x_'])\n",
    "    \n",
    "    state['f'].append(f_val)\n",
    "    state['f-all'].append(f_val)\n",
    "\n",
    "    if 'L' in state:\n",
    "        L = state['L'][-1]\n",
    "        \n",
    "    L /= zeta\n",
    "\n",
    "    x_ = solve_subproblem(df(state['x_']) / L - dh(state['x_']))\n",
    "    while not (f(x_) <= f(state['x_']) + np.dot(df(state['x_']), x_ - state['x_']) + L * V(x_, state['x_']) + 3*eps/4):\n",
    "        L *= zeta\n",
    "        x_ = solve_subproblem(df(state['x_']) / L - dh(state['x_'])).copy()\n",
    "        state['f-all'].append(f_val)\n",
    "\n",
    "    state['x_'] = x_.copy()\n",
    "    state['L'].append(L)\n",
    "    \n",
    "    if 'S' in state:\n",
    "        S = state['S'][-1]\n",
    "    else:\n",
    "        S = 0\n",
    "        \n",
    "    state['S'].append(S + 1 / L)\n",
    "    \n",
    "    if last:\n",
    "        state['x'] = state['x_'] * state['S'][-1]\n",
    "    else:\n",
    "        state['x'] += state['x_'] / state['L'][-1]\n",
    "    \n",
    "    if state['S'][-1] >= 4 * R**2 / eps:\n",
    "        return False\n",
    "    \n",
    "    return True"
   ]
  },
  {
   "cell_type": "code",
   "execution_count": 11,
   "metadata": {},
   "outputs": [],
   "source": [
    "@optimizer\n",
    "def alg2(state, L=1, delta=1e-1, zeta=1.7, last=False):\n",
    "    \"\"\"\n",
    "    Algorithm 2 for Relatively Continuous Problems\n",
    "    \"\"\"\n",
    "    if 'S' in state:\n",
    "        f_val = f(state['x'] / state['S'][-1])\n",
    "    else:\n",
    "        f_val = f(state['x_'])\n",
    "    \n",
    "    state['f'].append(f_val)\n",
    "    state['f-all'].append(f_val)\n",
    "\n",
    "    if 'L' in state:\n",
    "        L = state['L'][-1]\n",
    "    \n",
    "    if 'delta' in state:\n",
    "        delta = state['delta'][-1]\n",
    "        \n",
    "    L /= zeta\n",
    "    delta /= zeta\n",
    "\n",
    "    x_ = solve_subproblem(df(state['x_']) / L - dh(state['x_']))\n",
    "    while not (f(x_) <= f(state['x_']) + np.dot(df(state['x_']), x_ - state['x_']) + L * V(x_, state['x_']) + delta):\n",
    "        L *= zeta\n",
    "        delta *= zeta\n",
    "        x_ = solve_subproblem(df(state['x_']) / L - dh(state['x_'])).copy()\n",
    "        state['f-all'].append(f_val)\n",
    "\n",
    "    state['x_'] = x_.copy()\n",
    "    state['L'].append(L)\n",
    "    \n",
    "    if 'S' in state:\n",
    "        S = state['S'][-1]\n",
    "    else:\n",
    "        S = 0\n",
    "        \n",
    "    state['S'].append(S + 1 / L)\n",
    "    \n",
    "    if last:\n",
    "        state['x'] = state['x_'] * state['S'][-1]\n",
    "    else:\n",
    "        state['x'] += state['x_'] / state['L'][-1]\n",
    "    \n",
    "    return True"
   ]
  },
  {
   "cell_type": "code",
   "execution_count": 12,
   "metadata": {},
   "outputs": [],
   "source": [
    "T, x_alg1, state_alg1 = alg1(x0, T=1000, L=1, zeta=1.5, R=R, eps=1e-1)"
   ]
  },
  {
   "cell_type": "code",
   "execution_count": 13,
   "metadata": {},
   "outputs": [],
   "source": [
    "_, x_alg1_last, state_alg1_last = alg1(x0, T=1000, L=1, zeta=1.5, R=R, eps=1e-1, last=True)"
   ]
  },
  {
   "cell_type": "code",
   "execution_count": 14,
   "metadata": {},
   "outputs": [],
   "source": [
    "_, x_gd, state_gd = gd(x0, T=T, L=1)"
   ]
  },
  {
   "cell_type": "code",
   "execution_count": 15,
   "metadata": {},
   "outputs": [],
   "source": [
    "_, x_alg2, state_alg2 = alg2(x0, T=T, delta=1e-1, L=1, zeta=1.5)"
   ]
  },
  {
   "cell_type": "code",
   "execution_count": 16,
   "metadata": {},
   "outputs": [],
   "source": [
    "_, x_alg2_last, state_alg2_last = alg2(x0, T=T, delta=1e-1, L=1, zeta=1.5, last=True)"
   ]
  },
  {
   "cell_type": "code",
   "execution_count": 17,
   "metadata": {},
   "outputs": [],
   "source": [
    "# Re = np.sqrt(np.linalg.norm(x_gd - x0, 2) * (\n",
    "#     3*sigma * (np.linalg.norm(x_gd + x0, 2)**2 + 2*np.linalg.norm(x0, 2)**2) +\\\n",
    "#     4*rho * (np.linalg.norm(x_gd, 2) + 2*np.linalg.norm(x0, 2)) + 6*gamma\n",
    "# ) / (6*T))\n",
    "# f_opt = np.min(state_gd['f-all']) - Re\n",
    "f_opt = 0"
   ]
  },
  {
   "cell_type": "code",
   "execution_count": 18,
   "metadata": {},
   "outputs": [
    {
     "data": {
      "image/png": "[encoded data removed]",
      "text/plain": [
       "<Figure size 432x360 with 1 Axes>"
      ]
     },
     "metadata": {
      "needs_background": "light"
     },
     "output_type": "display_data"
    }
   ],
   "source": [
    "limit_T = min(\n",
    "    state_gd['f-all'].shape[0],\n",
    "    state_alg1['f-all'].shape[0],\n",
    "    state_alg1_last['f-all'].shape[0],\n",
    "    state_alg2['f-all'].shape[0],\n",
    "    state_alg2_last['f-all'].shape[0]\n",
    ")\n",
    "\n",
    "plt.figure(figsize=(6,5))\n",
    "plt.rcParams.update({'font.size': 14})\n",
    "\n",
    "plt.semilogy(state_gd['f-all'][:limit_T] - f_opt, 'k--', label='GD')\n",
    "plt.semilogy(state_alg1['f-all'][:limit_T] - f_opt, 'k:', label='Algorithm 1')\n",
    "plt.semilogy(state_alg1_last['f-all'][:limit_T] - f_opt, 'r:', label='Algorithm 1 (last iterate)')\n",
    "plt.semilogy(state_alg2['f-all'][:limit_T] - f_opt, 'k-.', label='Algorithm 2')\n",
    "plt.semilogy(state_alg2_last['f-all'][:limit_T] - f_opt, 'r-.', label='Algorithm 2 (last iterate)')\n",
    "\n",
    "plt.grid(alpha=0.4)\n",
    "plt.legend()\n",
    "\n",
    "plt.title(f'$m = {m}, n = {n}$')\n",
    "plt.ylabel('$f(x_T)$ (log-scale)')\n",
    "plt.ylim(top=state_gd['f-all'][1] - f_opt, bottom = np.min(state_alg1_last['f-all'][:limit_T]) - f_opt)\n",
    "plt.xlabel('$T$')\n",
    "\n",
    "plt.tight_layout()\n",
    "plt.show()"
   ]
  },
  {
   "cell_type": "code",
   "execution_count": 19,
   "metadata": {},
   "outputs": [
    {
     "data": {
      "image/png": "[encoded data removed]",
      "text/plain": [
       "<Figure size 432x360 with 1 Axes>"
      ]
     },
     "metadata": {
      "needs_background": "light"
     },
     "output_type": "display_data"
    }
   ],
   "source": [
    "limit_N = min(\n",
    "    state_gd['f-all'].shape[0],\n",
    "    state_alg1['f'].shape[0],\n",
    "    state_alg1_last['f'].shape[0],\n",
    "    state_alg2['f'].shape[0],\n",
    "    state_alg2_last['f'].shape[0]\n",
    ")\n",
    "\n",
    "plt.figure(figsize=(6,5))\n",
    "plt.rcParams.update({'font.size': 14})\n",
    "\n",
    "plt.semilogy(state_gd['f-all'][:limit_N] - f_opt, 'k--', label='GD')\n",
    "plt.semilogy(state_alg1['f'][:limit_N] - f_opt, 'k:', label='Algorithm 1')\n",
    "plt.semilogy(state_alg1_last['f'][:limit_N] - f_opt, 'r:', label='Algorithm 1 (last iterate)')\n",
    "plt.semilogy(state_alg2['f'][:limit_N] - f_opt, 'k-.', label='Algorithm 2')\n",
    "plt.semilogy(state_alg2_last['f'][:limit_N] - f_opt, 'r-.', label='Algorithm 2 (last iterate)')\n",
    "\n",
    "plt.grid(alpha=0.4)\n",
    "plt.legend()\n",
    "\n",
    "plt.title(f'$m = {m}, n = {n}$')\n",
    "plt.ylabel('$f(x^N)$ (log-scale)')\n",
    "plt.ylim(top=state_gd['f-all'][1] - f_opt, bottom = state_alg1_last['f'][limit_N-1] - f_opt)\n",
    "plt.xlabel('$N$')\n",
    "\n",
    "plt.tight_layout()\n",
    "plt.show()"
   ]
  },
  {
   "cell_type": "code",
   "execution_count": null,
   "metadata": {},
   "outputs": [],
   "source": []
  }
 ],
 "metadata": {
  "kernelspec": {
   "display_name": "Python 3",
   "language": "python",
   "name": "python3"
  },
  "language_info": {
   "codemirror_mode": {
    "name": "ipython",
    "version": 3
   },
   "file_extension": ".py",
   "mimetype": "text/x-python",
   "name": "python",
   "nbconvert_exporter": "python",
   "pygments_lexer": "ipython3",
   "version": "3.8.3"
  }
 },
 "nbformat": 4,
 "nbformat_minor": 4
}
