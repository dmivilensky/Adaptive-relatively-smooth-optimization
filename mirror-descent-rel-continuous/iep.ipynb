{
 "cells": [
  {
   "cell_type": "markdown",
   "metadata": {},
   "source": [
    "# Intersection of ellipsoids optimization problem\n",
    "### Relatively continuous optimization approach\n",
    "based on the example from <a href=\"https://arxiv.org/pdf/1710.04718.pdf\">paper</a>"
   ]
  },
  {
   "cell_type": "code",
   "execution_count": 1,
   "metadata": {},
   "outputs": [],
   "source": [
    "import numpy as np\n",
    "from scipy.optimize import newton\n",
    "from scipy.spatial.distance import squareform\n",
    "import matplotlib.pyplot as plt\n",
    "from collections import defaultdict\n",
    "from tqdm.notebook import tqdm"
   ]
  },
  {
   "cell_type": "code",
   "execution_count": 2,
   "metadata": {},
   "outputs": [
    {
     "data": {
      "application/vnd.jupyter.widget-view+json": {
       "model_id": "22d7cbbc1ccc4eaf824256df86492be8",
       "version_major": 2,
       "version_minor": 0
      },
      "text/plain": [
       "HBox(children=(HTML(value=''), FloatProgress(value=0.0, max=50.0), HTML(value='')))"
      ]
     },
     "metadata": {},
     "output_type": "display_data"
    },
    {
     "name": "stdout",
     "output_type": "stream",
     "text": [
      "\n",
      "\n",
      "sigma = 396241.9569947109\n",
      "rho = 14475.406836311933\n",
      "gamma = 174.80528356362106\n"
     ]
    }
   ],
   "source": [
    "np.random.seed(7)\n",
    "\n",
    "n = 50\n",
    "m = 500\n",
    "\n",
    "A = np.zeros(shape=(n, m, m))\n",
    "b =  np.random.random((n, m))\n",
    "c = np.random.random(n)\n",
    "\n",
    "spectral_radiuses = np.array([])\n",
    "\n",
    "for i in tqdm(range(n)):\n",
    "    A_ = np.random.rand(m, m) * 1e-1\n",
    "    A[i] = np.dot(A_, A_.T)\n",
    "    eigen_values = np.linalg.eigvals(A[i])\n",
    "    spectral_radiuses = np.append(spectral_radiuses, np.abs(eigen_values).max())\n",
    "\n",
    "sigma = np.power(spectral_radiuses, 2).max()\n",
    "rho = 2 * max(np.linalg.norm(A[i] @ b[i], 2) for i in range(n))\n",
    "gamma = max(np.linalg.norm(b[i], 2)**2 for i in range(n))\n",
    "\n",
    "print()\n",
    "print(f'sigma = {sigma}')\n",
    "print(f'rho = {rho}')\n",
    "print(f'gamma = {gamma}')"
   ]
  },
  {
   "cell_type": "code",
   "execution_count": 3,
   "metadata": {},
   "outputs": [],
   "source": [
    "h = lambda x: sigma/4 * np.linalg.norm(x, 2)**4 +\\\n",
    "                rho/3 * np.linalg.norm(x, 2)**3 +\\\n",
    "              gamma/2 * np.linalg.norm(x, 2)**2\n",
    "dh = lambda x: sigma * x * np.linalg.norm(x, 2)**2 + rho * x * np.linalg.norm(x, 2) + gamma * x\n",
    "\n",
    "def V(y, x):\n",
    "    return h(y) - h(x) - np.dot(dh(x), y - x)"
   ]
  },
  {
   "cell_type": "code",
   "execution_count": 4,
   "metadata": {},
   "outputs": [],
   "source": [
    "f = lambda x: (0.5 * (np.expand_dims(x, axis=0) @ A @ x).T + b @ x + c).max()\n",
    "def df(x):\n",
    "    i = (0.5 * (np.expand_dims(x, axis=0) @ A @ x).T + b @ x + c).argmax()\n",
    "    return A[i] @ x + b[i]"
   ]
  },
  {
   "cell_type": "code",
   "execution_count": 5,
   "metadata": {},
   "outputs": [],
   "source": [
    "def solve_subproblem(c):\n",
    "    th = newton(\n",
    "        lambda th: (\n",
    "            sigma * np.linalg.norm(c, 2)**2 * th**3 +\\\n",
    "            rho * np.linalg.norm(c, 2) * th**2 + gamma * th) - 1, \n",
    "        0, tol=1e-10, maxiter=5000\n",
    "    )\n",
    "    return -th * c"
   ]
  },
  {
   "cell_type": "code",
   "execution_count": 6,
   "metadata": {},
   "outputs": [],
   "source": [
    "x0 = np.zeros(m)"
   ]
  },
  {
   "cell_type": "code",
   "execution_count": 7,
   "metadata": {},
   "outputs": [],
   "source": [
    "def optimizer(step):\n",
    "    def wrapper(x, T, *args, **kwargs):\n",
    "        state = defaultdict(list)\n",
    "        state['x'] = x.copy()\n",
    "        state['x_'] = x.copy()\n",
    "        \n",
    "        for t in tqdm(range(T)):\n",
    "            if not step(state, *args, **kwargs):\n",
    "                break\n",
    "        \n",
    "        return len(state['f-all']), state['x'], {k: np.array(v) for k, v in state.items() if k[0] != 'x'}\n",
    "    \n",
    "    return wrapper"
   ]
  },
  {
   "cell_type": "code",
   "execution_count": 8,
   "metadata": {},
   "outputs": [],
   "source": [
    "@optimizer\n",
    "def gd(state, L=1):\n",
    "    \"\"\"\n",
    "    Gradient Descent for Relatively Continuous Problems\n",
    "    \"\"\"\n",
    "    state['f-all'].append(f(state['x']))\n",
    "    state['x'] = solve_subproblem(df(state['x']) / L - dh(state['x']))\n",
    "    \n",
    "    return True"
   ]
  },
  {
   "cell_type": "code",
   "execution_count": 9,
   "metadata": {},
   "outputs": [],
   "source": [
    "R = 10"
   ]
  },
  {
   "cell_type": "code",
   "execution_count": 10,
   "metadata": {},
   "outputs": [],
   "source": [
    "@optimizer\n",
    "def alg1(state, L=1, zeta=1.7, R=R, eps=8e-1, last=False):\n",
    "    \"\"\"\n",
    "    Universal Algorithm 1 for Relatively Continuous Problems\n",
    "    \"\"\"\n",
    "    if 'S' in state:\n",
    "        f_val = min(f(state['x'] / state['S'][-1]), f(state['x_']))\n",
    "        if len(state['f']) > 0:\n",
    "            f_val = min(state['f-all'][-1], f_val)\n",
    "    else:\n",
    "        f_val = f(state['x_'])\n",
    "    \n",
    "    state['f'].append(f_val)\n",
    "    state['f-all'].append(f_val)\n",
    "\n",
    "    if 'L' in state:\n",
    "        L = state['L'][-1]\n",
    "        \n",
    "    L /= zeta\n",
    "\n",
    "    x_ = solve_subproblem(df(state['x_']) / L - dh(state['x_']))\n",
    "    while not (f(x_) <= f(state['x_']) + np.dot(df(state['x_']), x_ - state['x_']) + L * V(x_, state['x_']) + 3*eps/4):\n",
    "        L *= zeta\n",
    "        x_ = solve_subproblem(df(state['x_']) / L - dh(state['x_'])).copy()\n",
    "        state['f-all'].append(f_val)\n",
    "\n",
    "    state['x_'] = x_.copy()\n",
    "    state['L'].append(L)\n",
    "    \n",
    "    if 'S' in state:\n",
    "        S = state['S'][-1]\n",
    "    else:\n",
    "        S = 0\n",
    "        \n",
    "    state['S'].append(S + 1 / L)\n",
    "    \n",
    "    if last:\n",
    "        state['x'] = state['x_'] * state['S'][-1]\n",
    "    else:\n",
    "        state['x'] += state['x_'] / state['L'][-1]\n",
    "    \n",
    "    if R is not None and state['S'][-1] >= 4 * R**2 / eps:\n",
    "        return False\n",
    "    \n",
    "    return True"
   ]
  },
  {
   "cell_type": "code",
   "execution_count": 11,
   "metadata": {},
   "outputs": [],
   "source": [
    "@optimizer\n",
    "def alg2(state, L=1, delta=1e-1, zeta=1.7, min_iters=False):\n",
    "    \"\"\"\n",
    "    Universal Algorithm 2 for Relatively Continuous Problems\n",
    "    \"\"\"\n",
    "    if 'S' in state:\n",
    "        if min_iters:\n",
    "            f_val = f(state['x_'])\n",
    "        else:\n",
    "            f_val = min(f(state['x'] / state['S'][-1]), f(state['x_']))\n",
    "        if len(state['f']) > 0:\n",
    "            f_val = min(state['f-all'][-1], f_val)\n",
    "    else:\n",
    "        f_val = f(state['x_'])\n",
    "    \n",
    "    state['f'].append(f_val)\n",
    "    state['f-all'].append(f_val)\n",
    "\n",
    "    if 'L' in state:\n",
    "        L = state['L'][-1]\n",
    "    \n",
    "    if 'delta' in state:\n",
    "        delta = state['delta'][-1]\n",
    "        \n",
    "    L /= zeta\n",
    "    delta /= zeta\n",
    "\n",
    "    x_ = solve_subproblem(df(state['x_']) / L - dh(state['x_']))\n",
    "    while not (f(x_) <= f(state['x_']) + np.dot(df(state['x_']), x_ - state['x_']) + L * V(x_, state['x_']) + delta):\n",
    "        L *= zeta\n",
    "        delta *= zeta\n",
    "        x_ = solve_subproblem(df(state['x_']) / L - dh(state['x_'])).copy()\n",
    "        state['f-all'].append(f_val)\n",
    "\n",
    "    state['x_'] = x_.copy()\n",
    "    state['L'].append(L)\n",
    "    state['delta'].append(delta)\n",
    "    \n",
    "    if 'S' in state:\n",
    "        S = state['S'][-1]\n",
    "    else:\n",
    "        S = 0\n",
    "        \n",
    "    state['S'].append(S + 1 / L)\n",
    "    \n",
    "    state['x'] += state['x_'] / state['L'][-1]\n",
    "    \n",
    "    return True"
   ]
  },
  {
   "cell_type": "code",
   "execution_count": 12,
   "metadata": {},
   "outputs": [],
   "source": [
    "@optimizer\n",
    "def alg3(state, L=1, zeta=1.7, R=R, eps=8e-1, stop_f_star=None, min_iters=False):\n",
    "    \"\"\"\n",
    "    Adaptive Algorithm 3 for Relatively Continuous Problems\n",
    "    \"\"\"\n",
    "    if 'S' in state:\n",
    "        if min_iters:\n",
    "            f_val = f(state['x_'])\n",
    "        else:\n",
    "            f_val = min(f(state['x'] / state['S'][-1]), f(state['x_']))\n",
    "        if len(state['f']) > 0:\n",
    "            f_val = min(state['f-all'][-1], f_val)\n",
    "    else:\n",
    "        f_val = f(state['x_'])\n",
    "    \n",
    "    state['f'].append(f_val)\n",
    "    state['f-all'].append(f_val)\n",
    "\n",
    "    if 'L' in state:\n",
    "        L = state['L'][-1]\n",
    "        \n",
    "    L /= zeta\n",
    "\n",
    "    x_ = solve_subproblem(df(state['x_']) / L - dh(state['x_']))\n",
    "    while not (0 <= np.dot(df(state['x_']), x_ - state['x_']) + L * V(x_, state['x_']) + eps/2):\n",
    "        L *= zeta\n",
    "        x_ = solve_subproblem(df(state['x_']) / L - dh(state['x_'])).copy()\n",
    "        state['f-all'].append(f_val)\n",
    "\n",
    "    state['x_'] = x_.copy()\n",
    "    state['L'].append(L)\n",
    "    \n",
    "    if 'S' in state:\n",
    "        S = state['S'][-1]\n",
    "    else:\n",
    "        S = 0\n",
    "        \n",
    "    state['S'].append(S + 1 / L)\n",
    "    \n",
    "    state['x'] += state['x_'] / state['L'][-1]\n",
    "    \n",
    "    if R is not None and state['S'][-1] >= 2 * R**2 / eps:\n",
    "        return False\n",
    "    \n",
    "    return True"
   ]
  },
  {
   "cell_type": "code",
   "execution_count": 13,
   "metadata": {},
   "outputs": [],
   "source": [
    "@optimizer\n",
    "def alg4(state, L=1, delta=1e-1, zeta=1.7, last=False):\n",
    "    \"\"\"\n",
    "    Adaptive Algorithm 4 for Relatively Continuous Problems\n",
    "    \"\"\"\n",
    "    if 'S' in state:\n",
    "        f_val = min(f(state['x'] / state['S'][-1]), f(state['x_']))\n",
    "        if len(state['f']) > 0:\n",
    "            f_val = min(state['f-all'][-1], f_val)\n",
    "    else:\n",
    "        f_val = f(state['x_'])\n",
    "    \n",
    "    state['f'].append(f_val)\n",
    "    state['f-all'].append(f_val)\n",
    "\n",
    "    if 'L' in state:\n",
    "        L = state['L'][-1]\n",
    "    \n",
    "    if 'delta' in state:\n",
    "        delta = state['delta'][-1]\n",
    "        \n",
    "    L /= zeta\n",
    "    delta /= zeta\n",
    "\n",
    "    x_ = solve_subproblem(df(state['x_']) / L - dh(state['x_']))\n",
    "    while not (0 <= np.dot(df(state['x_']), x_ - state['x_']) + L * V(x_, state['x_']) + delta):\n",
    "        L *= zeta\n",
    "        delta *= zeta\n",
    "        x_ = solve_subproblem(df(state['x_']) / L - dh(state['x_'])).copy()\n",
    "        state['f-all'].append(f_val)\n",
    "\n",
    "    state['x_'] = x_.copy()\n",
    "    state['L'].append(L)\n",
    "    state['delta'].append(delta)\n",
    "    \n",
    "    if 'S' in state:\n",
    "        S = state['S'][-1]\n",
    "    else:\n",
    "        S = 0\n",
    "        \n",
    "    state['S'].append(S + 1 / L)\n",
    "    \n",
    "    if last:\n",
    "        state['x'] = state['x_'] * state['S'][-1]\n",
    "    else:\n",
    "        state['x'] += state['x_'] / state['L'][-1]\n",
    "    \n",
    "    return True"
   ]
  },
  {
   "cell_type": "code",
   "execution_count": 14,
   "metadata": {},
   "outputs": [],
   "source": [
    "iters = 4000\n",
    "L = 1.\n",
    "zeta = 2.\n",
    "delta = 5e-1"
   ]
  },
  {
   "cell_type": "code",
   "execution_count": 15,
   "metadata": {},
   "outputs": [
    {
     "data": {
      "application/vnd.jupyter.widget-view+json": {
       "model_id": "b996f60e2458465091413d01938e25f1",
       "version_major": 2,
       "version_minor": 0
      },
      "text/plain": [
       "HBox(children=(HTML(value=''), FloatProgress(value=0.0, max=4000.0), HTML(value='')))"
      ]
     },
     "metadata": {},
     "output_type": "display_data"
    },
    {
     "name": "stdout",
     "output_type": "stream",
     "text": [
      "\n"
     ]
    }
   ],
   "source": [
    "_, x_alg4, state_alg4 = alg4(x0, T=iters, delta=delta, L=L, zeta=zeta)\n",
    "x_alg4 = x_alg4 / state_alg4['S'][-1]"
   ]
  },
  {
   "cell_type": "code",
   "execution_count": 16,
   "metadata": {},
   "outputs": [
    {
     "data": {
      "application/vnd.jupyter.widget-view+json": {
       "model_id": "0bb4acafc12d4aba9bb485a8900c2b67",
       "version_major": 2,
       "version_minor": 0
      },
      "text/plain": [
       "HBox(children=(HTML(value=''), FloatProgress(value=0.0, max=4000.0), HTML(value='')))"
      ]
     },
     "metadata": {},
     "output_type": "display_data"
    },
    {
     "name": "stdout",
     "output_type": "stream",
     "text": [
      "\n"
     ]
    }
   ],
   "source": [
    "T, x_alg1, state_alg1 = alg1(x0, T=iters, L=L, zeta=zeta, R=None, eps=delta)\n",
    "x_alg1 = x_alg1 / state_alg1['S'][-1]"
   ]
  },
  {
   "cell_type": "code",
   "execution_count": 17,
   "metadata": {},
   "outputs": [],
   "source": [
    "R = np.sqrt(V(x_alg1, x0))\n",
    "\n",
    "Re = R**2 / state_alg4['S'][-1] + (state_alg4['delta'] / state_alg4['L']).sum() / state_alg4['S'][-1]\n",
    "f_opt = state_alg4['f-all'][-1] - Re"
   ]
  },
  {
   "cell_type": "code",
   "execution_count": 38,
   "metadata": {},
   "outputs": [],
   "source": [
    "discrepancy = (R*1.3)**2 / state_alg4['S'] + np.cumsum(state_alg4['delta'] / state_alg4['L']) / state_alg4['S']"
   ]
  },
  {
   "cell_type": "code",
   "execution_count": 19,
   "metadata": {},
   "outputs": [
    {
     "data": {
      "application/vnd.jupyter.widget-view+json": {
       "model_id": "763a79fe28184505bf62ccb2804e45a5",
       "version_major": 2,
       "version_minor": 0
      },
      "text/plain": [
       "HBox(children=(HTML(value=''), FloatProgress(value=0.0, max=4000.0), HTML(value='')))"
      ]
     },
     "metadata": {},
     "output_type": "display_data"
    },
    {
     "name": "stdout",
     "output_type": "stream",
     "text": [
      "\n"
     ]
    }
   ],
   "source": [
    "_, x_alg1_adv, state_alg1_adv = alg1(x0, T=iters, L=L, zeta=zeta, R=None, eps=delta / 3)"
   ]
  },
  {
   "cell_type": "code",
   "execution_count": 20,
   "metadata": {},
   "outputs": [
    {
     "data": {
      "application/vnd.jupyter.widget-view+json": {
       "model_id": "d780c3e9151543d79756bcf4e92a710d",
       "version_major": 2,
       "version_minor": 0
      },
      "text/plain": [
       "HBox(children=(HTML(value=''), FloatProgress(value=0.0, max=7991.0), HTML(value='')))"
      ]
     },
     "metadata": {},
     "output_type": "display_data"
    },
    {
     "name": "stdout",
     "output_type": "stream",
     "text": [
      "\n"
     ]
    }
   ],
   "source": [
    "_, x_gd, state_gd = gd(x0, T=T, L=L)"
   ]
  },
  {
   "cell_type": "code",
   "execution_count": 21,
   "metadata": {},
   "outputs": [
    {
     "data": {
      "application/vnd.jupyter.widget-view+json": {
       "model_id": "1f29f667156a4cc8bf2dc000f80270fe",
       "version_major": 2,
       "version_minor": 0
      },
      "text/plain": [
       "HBox(children=(HTML(value=''), FloatProgress(value=0.0, max=4000.0), HTML(value='')))"
      ]
     },
     "metadata": {},
     "output_type": "display_data"
    },
    {
     "name": "stdout",
     "output_type": "stream",
     "text": [
      "\n"
     ]
    }
   ],
   "source": [
    "_, x_alg2, state_alg2 = alg2(x0, T=iters, delta=delta, L=L, zeta=zeta)"
   ]
  },
  {
   "cell_type": "code",
   "execution_count": 22,
   "metadata": {},
   "outputs": [
    {
     "data": {
      "application/vnd.jupyter.widget-view+json": {
       "model_id": "8597263759a54f728f324afec4d65673",
       "version_major": 2,
       "version_minor": 0
      },
      "text/plain": [
       "HBox(children=(HTML(value=''), FloatProgress(value=0.0, max=4000.0), HTML(value='')))"
      ]
     },
     "metadata": {},
     "output_type": "display_data"
    },
    {
     "name": "stdout",
     "output_type": "stream",
     "text": [
      "\n"
     ]
    }
   ],
   "source": [
    "_, x_alg2_min, state_alg2_min = alg2(x0, T=iters, delta=delta, L=L, zeta=zeta, min_iters=True)"
   ]
  },
  {
   "cell_type": "code",
   "execution_count": 27,
   "metadata": {},
   "outputs": [
    {
     "data": {
      "application/vnd.jupyter.widget-view+json": {
       "model_id": "ff080c2364cf4e9da97f1e34f0f8e032",
       "version_major": 2,
       "version_minor": 0
      },
      "text/plain": [
       "HBox(children=(HTML(value=''), FloatProgress(value=0.0, max=4000.0), HTML(value='')))"
      ]
     },
     "metadata": {},
     "output_type": "display_data"
    },
    {
     "name": "stdout",
     "output_type": "stream",
     "text": [
      "\n"
     ]
    }
   ],
   "source": [
    "_, x_alg3, state_alg3 = alg3(x0, T=iters, L=L, zeta=zeta, R=None, eps=delta)"
   ]
  },
  {
   "cell_type": "code",
   "execution_count": 28,
   "metadata": {},
   "outputs": [
    {
     "data": {
      "application/vnd.jupyter.widget-view+json": {
       "model_id": "393fdab880454342a791c1d487318073",
       "version_major": 2,
       "version_minor": 0
      },
      "text/plain": [
       "HBox(children=(HTML(value=''), FloatProgress(value=0.0, max=4000.0), HTML(value='')))"
      ]
     },
     "metadata": {},
     "output_type": "display_data"
    },
    {
     "name": "stdout",
     "output_type": "stream",
     "text": [
      "\n"
     ]
    }
   ],
   "source": [
    "_, x_alg3_min, state_alg3_min = alg3(x0, T=iters, L=L, zeta=zeta, R=None, eps=delta, min_iters=True)"
   ]
  },
  {
   "cell_type": "code",
   "execution_count": 34,
   "metadata": {},
   "outputs": [],
   "source": [
    "discrepancy_3 = 2 * (R*1.3)**2 / state_alg3['S']"
   ]
  },
  {
   "cell_type": "code",
   "execution_count": 30,
   "metadata": {},
   "outputs": [
    {
     "data": {
      "application/vnd.jupyter.widget-view+json": {
       "model_id": "ccd08d11e7ae4e81a0413f5aa4c92b1c",
       "version_major": 2,
       "version_minor": 0
      },
      "text/plain": [
       "HBox(children=(HTML(value=''), FloatProgress(value=0.0, max=4000.0), HTML(value='')))"
      ]
     },
     "metadata": {},
     "output_type": "display_data"
    },
    {
     "name": "stdout",
     "output_type": "stream",
     "text": [
      "\n"
     ]
    }
   ],
   "source": [
    "_, x_alg3_adv, state_alg3_adv = alg3(x0, T=iters, L=L, zeta=zeta, R=None, eps=delta / 3)"
   ]
  },
  {
   "cell_type": "code",
   "execution_count": 35,
   "metadata": {},
   "outputs": [
    {
     "name": "stdout",
     "output_type": "stream",
     "text": [
      "GD 0.30339518251579844\n",
      "Universal Alg. 1 0.12742904768948726\n",
      "Universal Alg. 1 (acc.) 0.11459950031069233\n",
      "Universal Alg. 2 0.04711091720281163\n",
      "Adaptive Alg. 3 0.12851802593098918\n",
      "Adaptive Alg. 3 (acc.) 0.08621461305945688\n",
      "Adaptive Alg. 4 0.0484004805178746\n"
     ]
    }
   ],
   "source": [
    "limit_T = min(\n",
    "    state_gd['f-all'].shape[0],\n",
    "    state_alg1['f-all'].shape[0],\n",
    "    state_alg2['f-all'].shape[0],\n",
    "    state_alg3['f-all'].shape[0],\n",
    "    state_alg3_adv['f-all'].shape[0],\n",
    "    state_alg4['f-all'].shape[0]\n",
    ")\n",
    "\n",
    "print('GD', state_gd['f-all'][limit_T-1])\n",
    "print('Universal Alg. 1', state_alg1['f-all'][limit_T-1])\n",
    "print('Universal Alg. 1 (acc.)', state_alg1_adv['f-all'][limit_T-1])\n",
    "print('Universal Alg. 2', state_alg2['f-all'][limit_T-1])\n",
    "print('Adaptive Alg. 3', state_alg3['f-all'][limit_T-1])\n",
    "print('Adaptive Alg. 3 (acc.)', state_alg3_adv['f-all'][limit_T-1])\n",
    "print('Adaptive Alg. 4', state_alg4['f-all'][limit_T-1])"
   ]
  },
  {
   "cell_type": "code",
   "execution_count": 56,
   "metadata": {},
   "outputs": [
    {
     "data": {
      "image/png": "[encoded data removed]",
      "text/plain": [
       "<Figure size 720x504 with 1 Axes>"
      ]
     },
     "metadata": {
      "needs_background": "light"
     },
     "output_type": "display_data"
    }
   ],
   "source": [
    "plt.figure(figsize=(10,7))\n",
    "plt.rcParams.update({'font.size': 14})\n",
    "\n",
    "plt.semilogy(state_gd['f-all'][:limit_T] - f_opt, 'k--', label='GD')\n",
    "plt.semilogy(state_alg1['f-all'][:limit_T] - f_opt, 'k:', label='Universal Alg. 1')\n",
    "plt.semilogy(state_alg1_adv['f-all'][:limit_T] - f_opt, 'k-.', label='Universal Alg. 1 (acc.)')\n",
    "plt.semilogy(state_alg2['f-all'][:limit_T] - f_opt, 'r:', label='Universal Alg. 2')\n",
    "plt.semilogy(state_alg3['f-all'][:limit_T] - f_opt, 'g:', label='Adaptive Alg. 3')\n",
    "plt.semilogy(state_alg3_adv['f-all'][:limit_T] - f_opt, 'g-.', label='Adaptive Alg. 3 (acc.)')\n",
    "plt.semilogy(state_alg4['f-all'][:limit_T] - f_opt, 'b:', label='Adaptive Alg. 4')\n",
    "\n",
    "plt.grid(alpha=0.4)\n",
    "plt.legend()\n",
    "\n",
    "plt.title(f'$m = {m}, n = {n}$')\n",
    "plt.ylabel('$f(x_T) - f^*$ (log-scale)')\n",
    "plt.ylim(top=state_gd['f-all'][1] - f_opt)\n",
    "plt.xlabel('$T$')\n",
    "\n",
    "plt.tight_layout()\n",
    "# plt.savefig('T_m=500,n=50 [2].pdf')\n",
    "plt.show()"
   ]
  },
  {
   "cell_type": "code",
   "execution_count": 55,
   "metadata": {},
   "outputs": [
    {
     "data": {
      "image/png": "[encoded data removed]",
      "text/plain": [
       "<Figure size 720x504 with 1 Axes>"
      ]
     },
     "metadata": {
      "needs_background": "light"
     },
     "output_type": "display_data"
    }
   ],
   "source": [
    "limit_N = min(\n",
    "    state_gd['f-all'].shape[0],\n",
    "    state_alg1['f'].shape[0],\n",
    "    state_alg2['f'].shape[0],\n",
    "    state_alg1['f'].shape[0],\n",
    "    state_alg2['f'].shape[0]\n",
    ")\n",
    "\n",
    "plt.figure(figsize=(10,7))\n",
    "plt.rcParams.update({'font.size': 14})\n",
    "\n",
    "plt.semilogy(state_gd['f-all'][:limit_N] - f_opt, 'k--', label='GD')\n",
    "plt.semilogy(state_alg1['f'][:limit_N] - f_opt, 'k:', label='Universal Alg. 1')\n",
    "plt.semilogy(state_alg1_adv['f'][:limit_N] - f_opt, 'k-.', label='Universal Alg. 1 (acc.)')\n",
    "plt.semilogy(state_alg2['f'][:limit_N] - f_opt, 'r:', label='Universal Alg. 2')\n",
    "plt.semilogy(state_alg3['f'][:limit_N] - f_opt, 'g:', label='Adaptive Alg. 3')\n",
    "plt.semilogy(state_alg3_adv['f'][:limit_N] - f_opt, 'g-.', label='Adaptive Alg. 3 (acc.)')\n",
    "plt.semilogy(state_alg4['f'][:limit_N] - f_opt, 'b:', label='Adaptive Alg. 4')\n",
    "plt.semilogy(discrepancy, 'b', label='Bound Alg. 4')\n",
    "\n",
    "plt.grid(alpha=0.4)\n",
    "plt.legend()\n",
    "\n",
    "plt.title(f'$m = {m}, n = {n}$')\n",
    "plt.ylabel('$f(x^N) - f^*$ (log-scale)')\n",
    "plt.ylim(top=state_gd['f-all'][1] - f_opt)\n",
    "plt.xlabel('$N$')\n",
    "\n",
    "plt.tight_layout()\n",
    "# plt.savefig('N_m=500,n=50 [2].pdf')\n",
    "plt.show()"
   ]
  },
  {
   "cell_type": "code",
   "execution_count": 54,
   "metadata": {},
   "outputs": [
    {
     "data": {
      "image/png": "[encoded data removed]",
      "text/plain": [
       "<Figure size 720x504 with 1 Axes>"
      ]
     },
     "metadata": {
      "needs_background": "light"
     },
     "output_type": "display_data"
    }
   ],
   "source": [
    "limit_N = min(\n",
    "    state_alg2['f'].shape[0],\n",
    "    state_alg3['f'].shape[0]\n",
    ")\n",
    "\n",
    "plt.figure(figsize=(10,7))\n",
    "plt.rcParams.update({'font.size': 14})\n",
    "\n",
    "plt.semilogy(state_alg2['f'][:limit_N] - f_opt, 'r:', label='Universal Alg. 2')\n",
    "plt.semilogy(state_alg2_min['f'][:limit_N] - f_opt, 'r--', label='Universal Alg. 2 (min iters)')\n",
    "plt.semilogy(state_alg3['f'][:limit_N] - f_opt, 'g:', label='Adaptive Alg. 3')\n",
    "plt.semilogy(state_alg3_min['f'][:limit_N] - f_opt, 'g--', label='Adaptive Alg. 3 (min iters)')\n",
    "\n",
    "plt.grid(alpha=0.4)\n",
    "plt.legend()\n",
    "\n",
    "plt.title(f'$m = {m}, n = {n}$')\n",
    "plt.ylabel('$f(x^N) - f^*$ (log-scale)')\n",
    "plt.ylim(top=state_alg2['f-all'][1] - f_opt)\n",
    "plt.xlabel('$N$')\n",
    "\n",
    "plt.tight_layout()\n",
    "# plt.savefig('avg_prority_m=500,n=50.pdf')\n",
    "plt.show()"
   ]
  },
  {
   "cell_type": "code",
   "execution_count": 41,
   "metadata": {},
   "outputs": [],
   "source": [
    "subopt_set = np.linspace(0.6, 0.05, 16)\n",
    "max_T = 20_000"
   ]
  },
  {
   "cell_type": "code",
   "execution_count": 43,
   "metadata": {},
   "outputs": [
    {
     "data": {
      "application/vnd.jupyter.widget-view+json": {
       "model_id": "f59a49ead9374a3ca55757d69a4ae5f3",
       "version_major": 2,
       "version_minor": 0
      },
      "text/plain": [
       "HBox(children=(HTML(value=''), FloatProgress(value=0.0, max=20000.0), HTML(value='')))"
      ]
     },
     "metadata": {},
     "output_type": "display_data"
    },
    {
     "name": "stdout",
     "output_type": "stream",
     "text": [
      "\n"
     ]
    },
    {
     "data": {
      "application/vnd.jupyter.widget-view+json": {
       "model_id": "e0dea028947c478fa95d10e7e39dd364",
       "version_major": 2,
       "version_minor": 0
      },
      "text/plain": [
       "HBox(children=(HTML(value=''), FloatProgress(value=0.0, max=20000.0), HTML(value='')))"
      ]
     },
     "metadata": {},
     "output_type": "display_data"
    },
    {
     "name": "stdout",
     "output_type": "stream",
     "text": [
      "\n"
     ]
    },
    {
     "data": {
      "application/vnd.jupyter.widget-view+json": {
       "model_id": "c96cc15aba714c94ada1fc45a0ae832f",
       "version_major": 2,
       "version_minor": 0
      },
      "text/plain": [
       "HBox(children=(HTML(value=''), FloatProgress(value=0.0, max=20000.0), HTML(value='')))"
      ]
     },
     "metadata": {},
     "output_type": "display_data"
    },
    {
     "name": "stdout",
     "output_type": "stream",
     "text": [
      "\n"
     ]
    },
    {
     "data": {
      "application/vnd.jupyter.widget-view+json": {
       "model_id": "d1ad6bb21ffc4214955c6de84f90c977",
       "version_major": 2,
       "version_minor": 0
      },
      "text/plain": [
       "HBox(children=(HTML(value=''), FloatProgress(value=0.0, max=20000.0), HTML(value='')))"
      ]
     },
     "metadata": {},
     "output_type": "display_data"
    },
    {
     "name": "stdout",
     "output_type": "stream",
     "text": [
      "\n"
     ]
    },
    {
     "data": {
      "application/vnd.jupyter.widget-view+json": {
       "model_id": "d13b2a5eb06d40869e5656d15f6fde6c",
       "version_major": 2,
       "version_minor": 0
      },
      "text/plain": [
       "HBox(children=(HTML(value=''), FloatProgress(value=0.0, max=20000.0), HTML(value='')))"
      ]
     },
     "metadata": {},
     "output_type": "display_data"
    },
    {
     "name": "stdout",
     "output_type": "stream",
     "text": [
      "\n"
     ]
    },
    {
     "data": {
      "application/vnd.jupyter.widget-view+json": {
       "model_id": "1ac1319790014cff8375c41cbf2844c3",
       "version_major": 2,
       "version_minor": 0
      },
      "text/plain": [
       "HBox(children=(HTML(value=''), FloatProgress(value=0.0, max=20000.0), HTML(value='')))"
      ]
     },
     "metadata": {},
     "output_type": "display_data"
    },
    {
     "name": "stdout",
     "output_type": "stream",
     "text": [
      "\n"
     ]
    },
    {
     "data": {
      "application/vnd.jupyter.widget-view+json": {
       "model_id": "7fc8a419be6d48eda0a3762dc73081ce",
       "version_major": 2,
       "version_minor": 0
      },
      "text/plain": [
       "HBox(children=(HTML(value=''), FloatProgress(value=0.0, max=20000.0), HTML(value='')))"
      ]
     },
     "metadata": {},
     "output_type": "display_data"
    },
    {
     "name": "stdout",
     "output_type": "stream",
     "text": [
      "\n"
     ]
    },
    {
     "data": {
      "application/vnd.jupyter.widget-view+json": {
       "model_id": "2b4063d9cf3044ee83e96f4101d85077",
       "version_major": 2,
       "version_minor": 0
      },
      "text/plain": [
       "HBox(children=(HTML(value=''), FloatProgress(value=0.0, max=20000.0), HTML(value='')))"
      ]
     },
     "metadata": {},
     "output_type": "display_data"
    },
    {
     "name": "stdout",
     "output_type": "stream",
     "text": [
      "\n"
     ]
    },
    {
     "data": {
      "application/vnd.jupyter.widget-view+json": {
       "model_id": "2dabcab4a72a4e059609d4e68ae3cd04",
       "version_major": 2,
       "version_minor": 0
      },
      "text/plain": [
       "HBox(children=(HTML(value=''), FloatProgress(value=0.0, max=20000.0), HTML(value='')))"
      ]
     },
     "metadata": {},
     "output_type": "display_data"
    },
    {
     "name": "stdout",
     "output_type": "stream",
     "text": [
      "\n"
     ]
    },
    {
     "data": {
      "application/vnd.jupyter.widget-view+json": {
       "model_id": "ace9d15d9dcc45959270a795d31cb54a",
       "version_major": 2,
       "version_minor": 0
      },
      "text/plain": [
       "HBox(children=(HTML(value=''), FloatProgress(value=0.0, max=20000.0), HTML(value='')))"
      ]
     },
     "metadata": {},
     "output_type": "display_data"
    },
    {
     "name": "stdout",
     "output_type": "stream",
     "text": [
      "\n"
     ]
    },
    {
     "data": {
      "application/vnd.jupyter.widget-view+json": {
       "model_id": "33ce03eacac14fba92690c442012ba68",
       "version_major": 2,
       "version_minor": 0
      },
      "text/plain": [
       "HBox(children=(HTML(value=''), FloatProgress(value=0.0, max=20000.0), HTML(value='')))"
      ]
     },
     "metadata": {},
     "output_type": "display_data"
    },
    {
     "name": "stdout",
     "output_type": "stream",
     "text": [
      "\n"
     ]
    },
    {
     "data": {
      "application/vnd.jupyter.widget-view+json": {
       "model_id": "d79095fe5f1f4515b9325a781907188c",
       "version_major": 2,
       "version_minor": 0
      },
      "text/plain": [
       "HBox(children=(HTML(value=''), FloatProgress(value=0.0, max=20000.0), HTML(value='')))"
      ]
     },
     "metadata": {},
     "output_type": "display_data"
    },
    {
     "name": "stdout",
     "output_type": "stream",
     "text": [
      "\n"
     ]
    },
    {
     "data": {
      "application/vnd.jupyter.widget-view+json": {
       "model_id": "a0bae34fdb79458db2144728a816f8df",
       "version_major": 2,
       "version_minor": 0
      },
      "text/plain": [
       "HBox(children=(HTML(value=''), FloatProgress(value=0.0, max=20000.0), HTML(value='')))"
      ]
     },
     "metadata": {},
     "output_type": "display_data"
    },
    {
     "name": "stdout",
     "output_type": "stream",
     "text": [
      "\n"
     ]
    },
    {
     "data": {
      "application/vnd.jupyter.widget-view+json": {
       "model_id": "ddbba5232c384d86a1b809d1b2de928f",
       "version_major": 2,
       "version_minor": 0
      },
      "text/plain": [
       "HBox(children=(HTML(value=''), FloatProgress(value=0.0, max=20000.0), HTML(value='')))"
      ]
     },
     "metadata": {},
     "output_type": "display_data"
    },
    {
     "name": "stdout",
     "output_type": "stream",
     "text": [
      "\n"
     ]
    },
    {
     "data": {
      "application/vnd.jupyter.widget-view+json": {
       "model_id": "2303cf3620f8478e9574a8588dda2f41",
       "version_major": 2,
       "version_minor": 0
      },
      "text/plain": [
       "HBox(children=(HTML(value=''), FloatProgress(value=0.0, max=20000.0), HTML(value='')))"
      ]
     },
     "metadata": {},
     "output_type": "display_data"
    },
    {
     "name": "stdout",
     "output_type": "stream",
     "text": [
      "\n"
     ]
    },
    {
     "data": {
      "application/vnd.jupyter.widget-view+json": {
       "model_id": "2be6a5666110461da394b7633dd8d43c",
       "version_major": 2,
       "version_minor": 0
      },
      "text/plain": [
       "HBox(children=(HTML(value=''), FloatProgress(value=0.0, max=20000.0), HTML(value='')))"
      ]
     },
     "metadata": {},
     "output_type": "display_data"
    },
    {
     "name": "stdout",
     "output_type": "stream",
     "text": [
      "\n"
     ]
    }
   ],
   "source": [
    "alg1_N, alg1_subopt = [], []\n",
    "for eps in subopt_set:\n",
    "    _, __, _alg1 = alg1(x0, T=max_T, L=L, zeta=zeta, R=R, eps=eps)\n",
    "    alg1_N.append(len(_alg1['f']))\n",
    "    alg1_subopt.append(_alg1['f'][-1] - f_opt)"
   ]
  },
  {
   "cell_type": "code",
   "execution_count": 44,
   "metadata": {},
   "outputs": [
    {
     "data": {
      "application/vnd.jupyter.widget-view+json": {
       "model_id": "d2c0794db2b84af98e5ae343975e6b15",
       "version_major": 2,
       "version_minor": 0
      },
      "text/plain": [
       "HBox(children=(HTML(value=''), FloatProgress(value=0.0, max=20000.0), HTML(value='')))"
      ]
     },
     "metadata": {},
     "output_type": "display_data"
    },
    {
     "name": "stdout",
     "output_type": "stream",
     "text": [
      "\n"
     ]
    },
    {
     "data": {
      "application/vnd.jupyter.widget-view+json": {
       "model_id": "10ebce20cc0e4e2084b4853d556aac33",
       "version_major": 2,
       "version_minor": 0
      },
      "text/plain": [
       "HBox(children=(HTML(value=''), FloatProgress(value=0.0, max=20000.0), HTML(value='')))"
      ]
     },
     "metadata": {},
     "output_type": "display_data"
    },
    {
     "name": "stdout",
     "output_type": "stream",
     "text": [
      "\n"
     ]
    },
    {
     "data": {
      "application/vnd.jupyter.widget-view+json": {
       "model_id": "4740d75dd9b2422e8f6e30eb6cdcab57",
       "version_major": 2,
       "version_minor": 0
      },
      "text/plain": [
       "HBox(children=(HTML(value=''), FloatProgress(value=0.0, max=20000.0), HTML(value='')))"
      ]
     },
     "metadata": {},
     "output_type": "display_data"
    },
    {
     "name": "stdout",
     "output_type": "stream",
     "text": [
      "\n"
     ]
    },
    {
     "data": {
      "application/vnd.jupyter.widget-view+json": {
       "model_id": "5e2ef860e341427a98078316e05d5428",
       "version_major": 2,
       "version_minor": 0
      },
      "text/plain": [
       "HBox(children=(HTML(value=''), FloatProgress(value=0.0, max=20000.0), HTML(value='')))"
      ]
     },
     "metadata": {},
     "output_type": "display_data"
    },
    {
     "name": "stdout",
     "output_type": "stream",
     "text": [
      "\n"
     ]
    },
    {
     "data": {
      "application/vnd.jupyter.widget-view+json": {
       "model_id": "315edd50bed940eb80b990978e58d719",
       "version_major": 2,
       "version_minor": 0
      },
      "text/plain": [
       "HBox(children=(HTML(value=''), FloatProgress(value=0.0, max=20000.0), HTML(value='')))"
      ]
     },
     "metadata": {},
     "output_type": "display_data"
    },
    {
     "name": "stdout",
     "output_type": "stream",
     "text": [
      "\n"
     ]
    },
    {
     "data": {
      "application/vnd.jupyter.widget-view+json": {
       "model_id": "48b35227959745a5994a99fb4e679494",
       "version_major": 2,
       "version_minor": 0
      },
      "text/plain": [
       "HBox(children=(HTML(value=''), FloatProgress(value=0.0, max=20000.0), HTML(value='')))"
      ]
     },
     "metadata": {},
     "output_type": "display_data"
    },
    {
     "name": "stdout",
     "output_type": "stream",
     "text": [
      "\n"
     ]
    },
    {
     "data": {
      "application/vnd.jupyter.widget-view+json": {
       "model_id": "f3dcb6bd5c08424fa5ff47e9fc965630",
       "version_major": 2,
       "version_minor": 0
      },
      "text/plain": [
       "HBox(children=(HTML(value=''), FloatProgress(value=0.0, max=20000.0), HTML(value='')))"
      ]
     },
     "metadata": {},
     "output_type": "display_data"
    },
    {
     "name": "stdout",
     "output_type": "stream",
     "text": [
      "\n"
     ]
    },
    {
     "data": {
      "application/vnd.jupyter.widget-view+json": {
       "model_id": "7cca7c0a12b54e12b4c11771ac923c44",
       "version_major": 2,
       "version_minor": 0
      },
      "text/plain": [
       "HBox(children=(HTML(value=''), FloatProgress(value=0.0, max=20000.0), HTML(value='')))"
      ]
     },
     "metadata": {},
     "output_type": "display_data"
    },
    {
     "name": "stdout",
     "output_type": "stream",
     "text": [
      "\n"
     ]
    },
    {
     "data": {
      "application/vnd.jupyter.widget-view+json": {
       "model_id": "857deb51af954dd68c82a8f2c41355ac",
       "version_major": 2,
       "version_minor": 0
      },
      "text/plain": [
       "HBox(children=(HTML(value=''), FloatProgress(value=0.0, max=20000.0), HTML(value='')))"
      ]
     },
     "metadata": {},
     "output_type": "display_data"
    },
    {
     "name": "stdout",
     "output_type": "stream",
     "text": [
      "\n"
     ]
    },
    {
     "data": {
      "application/vnd.jupyter.widget-view+json": {
       "model_id": "54cf51e3bb8b4a13b04fd2bf4cbb33d4",
       "version_major": 2,
       "version_minor": 0
      },
      "text/plain": [
       "HBox(children=(HTML(value=''), FloatProgress(value=0.0, max=20000.0), HTML(value='')))"
      ]
     },
     "metadata": {},
     "output_type": "display_data"
    },
    {
     "name": "stdout",
     "output_type": "stream",
     "text": [
      "\n"
     ]
    },
    {
     "data": {
      "application/vnd.jupyter.widget-view+json": {
       "model_id": "a0cbdfd2332e4f54bf7307bd0ae16518",
       "version_major": 2,
       "version_minor": 0
      },
      "text/plain": [
       "HBox(children=(HTML(value=''), FloatProgress(value=0.0, max=20000.0), HTML(value='')))"
      ]
     },
     "metadata": {},
     "output_type": "display_data"
    },
    {
     "name": "stdout",
     "output_type": "stream",
     "text": [
      "\n"
     ]
    },
    {
     "data": {
      "application/vnd.jupyter.widget-view+json": {
       "model_id": "c6e310302e444b29a7ccfecb1fc89c48",
       "version_major": 2,
       "version_minor": 0
      },
      "text/plain": [
       "HBox(children=(HTML(value=''), FloatProgress(value=0.0, max=20000.0), HTML(value='')))"
      ]
     },
     "metadata": {},
     "output_type": "display_data"
    },
    {
     "name": "stdout",
     "output_type": "stream",
     "text": [
      "\n"
     ]
    },
    {
     "data": {
      "application/vnd.jupyter.widget-view+json": {
       "model_id": "d762a17f742242e98e7b2916526c3f62",
       "version_major": 2,
       "version_minor": 0
      },
      "text/plain": [
       "HBox(children=(HTML(value=''), FloatProgress(value=0.0, max=20000.0), HTML(value='')))"
      ]
     },
     "metadata": {},
     "output_type": "display_data"
    },
    {
     "name": "stdout",
     "output_type": "stream",
     "text": [
      "\n"
     ]
    },
    {
     "data": {
      "application/vnd.jupyter.widget-view+json": {
       "model_id": "fc62c459135947b2ad7961df5f2ab961",
       "version_major": 2,
       "version_minor": 0
      },
      "text/plain": [
       "HBox(children=(HTML(value=''), FloatProgress(value=0.0, max=20000.0), HTML(value='')))"
      ]
     },
     "metadata": {},
     "output_type": "display_data"
    },
    {
     "name": "stdout",
     "output_type": "stream",
     "text": [
      "\n"
     ]
    },
    {
     "data": {
      "application/vnd.jupyter.widget-view+json": {
       "model_id": "57b4ef6dcc6a402cb794dfe27b0c2982",
       "version_major": 2,
       "version_minor": 0
      },
      "text/plain": [
       "HBox(children=(HTML(value=''), FloatProgress(value=0.0, max=20000.0), HTML(value='')))"
      ]
     },
     "metadata": {},
     "output_type": "display_data"
    },
    {
     "name": "stdout",
     "output_type": "stream",
     "text": [
      "\n"
     ]
    },
    {
     "data": {
      "application/vnd.jupyter.widget-view+json": {
       "model_id": "d828dbab129f4c8faf5cf1ec9fdc6ad9",
       "version_major": 2,
       "version_minor": 0
      },
      "text/plain": [
       "HBox(children=(HTML(value=''), FloatProgress(value=0.0, max=20000.0), HTML(value='')))"
      ]
     },
     "metadata": {},
     "output_type": "display_data"
    },
    {
     "name": "stdout",
     "output_type": "stream",
     "text": [
      "\n"
     ]
    }
   ],
   "source": [
    "alg3_N, alg3_subopt = [], []\n",
    "for eps in subopt_set:\n",
    "    _, __, _alg3 = alg3(x0, T=max_T, L=L, zeta=zeta, R=R, eps=eps)\n",
    "    alg3_N.append(len(_alg3['f']))\n",
    "    alg3_subopt.append(_alg3['f'][-1] - f_opt)"
   ]
  },
  {
   "cell_type": "code",
   "execution_count": 57,
   "metadata": {},
   "outputs": [
    {
     "data": {
      "image/png": "[encoded data removed]",
      "text/plain": [
       "<Figure size 720x504 with 1 Axes>"
      ]
     },
     "metadata": {
      "needs_background": "light"
     },
     "output_type": "display_data"
    }
   ],
   "source": [
    "plt.figure(figsize=(10,7))\n",
    "plt.rcParams.update({'font.size': 14})\n",
    "\n",
    "plt.plot(np.log(1 / np.array(alg1_subopt)), np.log(alg1_N), 'k:', label='Universal Alg. 1')\n",
    "start = 300\n",
    "finish = 1200\n",
    "plt.plot(np.log(1 / np.array(state_alg2['f'][start:-finish] - f_opt)), np.log(range(start+1, state_alg2['f'].shape[0] - finish + 1)), 'r:', label='Universal Alg. 2')\n",
    "plt.plot(np.log(1 / np.array(alg3_subopt)), np.log(alg3_N), 'g:', label='Adaptive Alg. 3')\n",
    "plt.plot(np.log(1 / np.array(state_alg4['f'][start:-finish] - f_opt)), np.log(range(start+1, state_alg4['f'].shape[0] - finish + 1)), 'b:', label='Adaptive Alg. 4')\n",
    "\n",
    "plt.grid(alpha=0.4)\n",
    "plt.legend()\n",
    "\n",
    "plt.title(f'$m = {m}, n = {n}$')\n",
    "plt.ylabel('$\\\\log N$')\n",
    "plt.xlabel('$\\\\log 1 / (f(x^N) - f^*)$')\n",
    "\n",
    "plt.tight_layout()\n",
    "# plt.savefig('log_eps_m=500,n=50.pdf')"
   ]
  },
  {
   "cell_type": "code",
   "execution_count": null,
   "metadata": {},
   "outputs": [],
   "source": []
  }
 ],
 "metadata": {
  "kernelspec": {
   "display_name": "Python 3",
   "language": "python",
   "name": "python3"
  },
  "language_info": {
   "codemirror_mode": {
    "name": "ipython",
    "version": 3
   },
   "file_extension": ".py",
   "mimetype": "text/x-python",
   "name": "python",
   "nbconvert_exporter": "python",
   "pygments_lexer": "ipython3",
   "version": "3.8.2"
  }
 },
 "nbformat": 4,
 "nbformat_minor": 4
}
