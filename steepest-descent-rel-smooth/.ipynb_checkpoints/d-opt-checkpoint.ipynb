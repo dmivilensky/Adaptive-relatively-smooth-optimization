{
 "cells": [
  {
   "cell_type": "markdown",
   "metadata": {},
   "source": [
    "# D-optimal design optimization problem\n",
    "### Relatively smooth optimization approach\n",
    "based on the example from <a href=\"https://arxiv.org/pdf/1610.05708.pdf\">paper 1</a> and methods from <a href=\"https://arxiv.org/pdf/2001.09013.pdf\">paper 2</a>"
   ]
  },
  {
   "cell_type": "code",
   "execution_count": 1,
   "metadata": {},
   "outputs": [],
   "source": [
    "import numpy as np\n",
    "from scipy.optimize import newton\n",
    "import matplotlib.pyplot as plt\n",
    "from collections import defaultdict\n",
    "from scipy.constants import golden\n",
    "\n",
    "normalize = lambda x: x / x.sum()"
   ]
  },
  {
   "cell_type": "code",
   "execution_count": 2,
   "metadata": {},
   "outputs": [
    {
     "name": "stdout",
     "output_type": "stream",
     "text": [
      "m = 100 , n = 120\n",
      "rank(H) = 100\n"
     ]
    }
   ],
   "source": [
    "np.random.seed(7)\n",
    "\n",
    "m = 100\n",
    "n = 120\n",
    "\n",
    "np.fill_diagonal(H := np.random.random((m, n)) * 1e-2, np.concatenate([\n",
    "    np.random.random(m // 2), np.random.random(m // 2) * 200\n",
    "]))\n",
    "\n",
    "print('m =', m, ', n =', n)\n",
    "print('rank(H) =', np.linalg.matrix_rank(H))"
   ]
  },
  {
   "cell_type": "code",
   "execution_count": 3,
   "metadata": {},
   "outputs": [],
   "source": [
    "h = lambda x: -np.sum(np.log(x))\n",
    "dh = lambda x: -1/x\n",
    "\n",
    "def V(y, x):\n",
    "    return h(y) - h(x) - np.dot(dh(x), y - x)"
   ]
  },
  {
   "cell_type": "code",
   "execution_count": 4,
   "metadata": {},
   "outputs": [],
   "source": [
    "f = lambda x: -np.linalg.slogdet(H @ np.diag(x) @ H.T)[1]\n",
    "df = lambda x: -np.diag(H.T @ np.linalg.inv(H @ np.diag(x) @ H.T) @ H)"
   ]
  },
  {
   "cell_type": "code",
   "execution_count": 5,
   "metadata": {},
   "outputs": [],
   "source": [
    "def solve_subproblem(c):\n",
    "    th = newton(\n",
    "        lambda th: np.sum(1 / (c + th)) - 1, \n",
    "        -np.min(c) + 1, \n",
    "        tol=1e-10\n",
    "    )\n",
    "    return 1 / (c + th)"
   ]
  },
  {
   "cell_type": "code",
   "execution_count": 6,
   "metadata": {},
   "outputs": [],
   "source": [
    "x0 = normalize(np.random.random(n))"
   ]
  },
  {
   "cell_type": "code",
   "execution_count": 7,
   "metadata": {},
   "outputs": [],
   "source": [
    "def optimizer(step):\n",
    "    def wrapper(x, T, *args, **kwargs):\n",
    "        state = defaultdict(list)\n",
    "        state['x'] = x\n",
    "        \n",
    "        for t in range(T):\n",
    "            step(state, *args, **kwargs)\n",
    "        \n",
    "        return len(state['f-all']), state['x'], {k: np.array(v) for k, v in state.items() if k != 'x'}\n",
    "    \n",
    "    return wrapper"
   ]
  },
  {
   "cell_type": "code",
   "execution_count": 8,
   "metadata": {},
   "outputs": [],
   "source": [
    "@optimizer\n",
    "def gd(state, L=1):\n",
    "    \"\"\"\n",
    "    Gradient Descent for Relatively Smooth Problems\n",
    "    \"\"\"\n",
    "    state['f-all'].append(f(state['x']))\n",
    "    state['x'] = solve_subproblem(df(state['x']) / L - dh(state['x']))"
   ]
  },
  {
   "cell_type": "code",
   "execution_count": 9,
   "metadata": {},
   "outputs": [],
   "source": [
    "def golden_search(function, a, b, tol=1e-5):\n",
    "    c = b - (b - a) / golden\n",
    "    d = a + (b - a) / golden\n",
    "    \n",
    "    while abs(b - a) > tol:\n",
    "        if function(c) < function(d):\n",
    "            b = d\n",
    "        else:\n",
    "            a = c\n",
    "\n",
    "        c = b - (b - a) / golden\n",
    "        d = a + (b - a) / golden\n",
    "\n",
    "    return (b + a) / 2"
   ]
  },
  {
   "cell_type": "code",
   "execution_count": 10,
   "metadata": {},
   "outputs": [],
   "source": [
    "@optimizer\n",
    "def steepest_gd(state, L=1, min_L=1e-1, relative_h_mult=0.9):\n",
    "    \"\"\"\n",
    "    Steepest Gradient Descent for Relatively Smooth Problems\n",
    "    \"\"\"\n",
    "    f_val = f(state['x'])\n",
    "    state['f'].append(f_val)\n",
    "    state['f-all'].append(f_val)\n",
    "    \n",
    "    def step(h):\n",
    "        x_ = solve_subproblem(h * df(state['x']) - dh(state['x']))\n",
    "        f_val = f(x_)\n",
    "        state['f-all'].append(f_val)\n",
    "        return f_val\n",
    "    \n",
    "    if 'h' in state:\n",
    "        h0 = state['h'][-1] * relative_h_mult\n",
    "    else:\n",
    "        h0 = 1 / L\n",
    "        \n",
    "    h = golden_search(step, h0, 1 / min_L, tol=1e-1)\n",
    "    state['x'] = solve_subproblem(h * df(state['x']) - dh(state['x']))\n",
    "    \n",
    "    if relative_h_mult is not None:\n",
    "        state['h'].append(h)"
   ]
  },
  {
   "cell_type": "code",
   "execution_count": 11,
   "metadata": {},
   "outputs": [],
   "source": [
    "@optimizer\n",
    "def agd(state, L=1, delta=5e-9, zeta=1.7):\n",
    "    \"\"\"\n",
    "    Adaptive Gradient Descent for Relatively Smooth Problems\n",
    "    \"\"\"\n",
    "    f_val = f(state['x'])\n",
    "    state['f'].append(f_val)\n",
    "    state['f-all'].append(f_val)\n",
    "\n",
    "    if 'L' in state:\n",
    "        L = state['L'][-1]\n",
    "        \n",
    "    L /= zeta\n",
    "\n",
    "    x_ = solve_subproblem(df(state['x']) / L - dh(state['x']))\n",
    "    while not (f(x_) <= f(state['x']) + np.dot(df(state['x']), x_ - state['x']) + L * V(x_, state['x']) + delta):\n",
    "        L *= zeta\n",
    "        x_ = solve_subproblem(df(state['x']) / L - dh(state['x']))\n",
    "        state['f-all'].append(f(x_))\n",
    "\n",
    "    state['x'] = x_.copy()\n",
    "    state['L'].append(L)"
   ]
  },
  {
   "cell_type": "code",
   "execution_count": 12,
   "metadata": {},
   "outputs": [],
   "source": [
    "@optimizer\n",
    "def steepest_agd(state, L=1, delta=5e-9, zeta=1.7):\n",
    "    \"\"\"\n",
    "    Steepest Adaptive Gradient Descent for Relatively Smooth Problems\n",
    "    \"\"\"\n",
    "    f_val = f(state['x'])\n",
    "    state['f'].append(f_val)\n",
    "    state['f-all'].append(f_val)\n",
    "\n",
    "    if 'L' in state:\n",
    "        L = state['L'][-1]\n",
    "        \n",
    "    L /= zeta\n",
    "\n",
    "    x_ = solve_subproblem(df(state['x']) / L - dh(state['x']))\n",
    "    while not (f(x_) <= f(state['x']) + np.dot(df(state['x']), x_ - state['x']) + L * V(x_, state['x']) + delta):\n",
    "        L *= zeta\n",
    "        x_ = solve_subproblem(df(state['x']) / L - dh(state['x']))\n",
    "        state['f-all'].append(f(x_))\n",
    "\n",
    "    def step(h):\n",
    "        x_ = solve_subproblem(h * df(state['x']) - dh(state['x']))\n",
    "        f_val = f(x_)\n",
    "        state['f-all'].append(f_val)\n",
    "        return f_val\n",
    "    \n",
    "    h = golden_search(step, 0, 1 / L, tol=1e-1)\n",
    "    state['x'] = solve_subproblem(h * df(state['x']) - dh(state['x']))\n",
    "    state['L'].append(1 / h)"
   ]
  },
  {
   "cell_type": "code",
   "execution_count": 13,
   "metadata": {},
   "outputs": [],
   "source": [
    "delta = 5e-9\n",
    "zeta = 1.7\n",
    "\n",
    "T, x_agd, state_agd = agd(x0, T=400, L=1, delta=delta, zeta=zeta)"
   ]
  },
  {
   "cell_type": "code",
   "execution_count": 14,
   "metadata": {},
   "outputs": [],
   "source": [
    "_, x_gd, state_gd = gd(x0, T=T, L=1)"
   ]
  },
  {
   "cell_type": "code",
   "execution_count": 15,
   "metadata": {},
   "outputs": [],
   "source": [
    "_, x_steepest_gd, state_steepest_gd = steepest_gd(\n",
    "    x0, T=150, L=1, min_L=0.3, relative_h_mult=0.9\n",
    ")"
   ]
  },
  {
   "cell_type": "code",
   "execution_count": 16,
   "metadata": {},
   "outputs": [],
   "source": [
    "_, x_steepest_agd, state_steepest_agd = steepest_agd(\n",
    "    x0, T=150, L=1, delta=delta, zeta=zeta\n",
    ")"
   ]
  },
  {
   "cell_type": "code",
   "execution_count": 17,
   "metadata": {},
   "outputs": [],
   "source": [
    "R = min(state_agd['L'][-1], 1 / np.sum(1 / state_agd['L'])) * V(x_agd, x0) + 3*delta\n",
    "f_opt = np.min(state_agd['f-all']) - R"
   ]
  },
  {
   "cell_type": "code",
   "execution_count": 18,
   "metadata": {},
   "outputs": [
    {
     "data": {
      "image/png": "[encoded data removed]",
      "text/plain": [
       "<Figure size 432x360 with 1 Axes>"
      ]
     },
     "metadata": {
      "needs_background": "light"
     },
     "output_type": "display_data"
    }
   ],
   "source": [
    "limit_T = min(\n",
    "    state_gd['f-all'].shape[0],\n",
    "    state_steepest_gd['f-all'].shape[0],\n",
    "    state_agd['f-all'].shape[0],\n",
    "    state_steepest_agd['f-all'].shape[0]\n",
    ")\n",
    "\n",
    "plt.figure(figsize=(6,5))\n",
    "plt.rcParams.update({'font.size': 14})\n",
    "\n",
    "plt.semilogy(state_gd['f-all'][:limit_T] - f_opt, 'k--', label='GD')\n",
    "plt.semilogy(state_steepest_gd['f-all'][:limit_T] - f_opt, 'k-', label='Steepest GD')\n",
    "plt.semilogy(state_agd['f-all'][:limit_T] - f_opt, 'k:', label='AGD')\n",
    "plt.semilogy(state_steepest_agd['f-all'][:limit_T] - f_opt, 'k-.', label='Steepest AGD')\n",
    "\n",
    "plt.grid(alpha=0.4)\n",
    "plt.legend()\n",
    "\n",
    "plt.title(f'$m = {m}, n = {n}, \\zeta = {zeta}$')\n",
    "plt.ylabel('$f(x_T) - f^*$ (log-scale)')\n",
    "plt.ylim(top=state_agd['f'][0] - f_opt)\n",
    "plt.xlabel('$T$')\n",
    "\n",
    "plt.tight_layout()\n",
    "plt.show()"
   ]
  },
  {
   "cell_type": "code",
   "execution_count": 19,
   "metadata": {},
   "outputs": [
    {
     "data": {
      "image/png": "[encoded data removed]",
      "text/plain": [
       "<Figure size 432x360 with 1 Axes>"
      ]
     },
     "metadata": {
      "needs_background": "light"
     },
     "output_type": "display_data"
    }
   ],
   "source": [
    "limit_N = min(\n",
    "    state_gd['f-all'].shape[0],\n",
    "    state_steepest_gd['f'].shape[0],\n",
    "    state_agd['f'].shape[0],\n",
    "    state_steepest_agd['f'].shape[0]\n",
    ")\n",
    "\n",
    "plt.figure(figsize=(6,5))\n",
    "plt.rcParams.update({'font.size': 14})\n",
    "\n",
    "plt.semilogy(state_gd['f-all'][:limit_N] - f_opt, 'k--', label='GD')\n",
    "plt.semilogy(state_steepest_gd['f'][:limit_N] - f_opt, 'k-', label='Steepest GD')\n",
    "plt.semilogy(state_agd['f'][:limit_N] - f_opt, 'k:', label='AGD')\n",
    "plt.semilogy(state_steepest_agd['f'][:limit_N] - f_opt, 'k-.', label='Steepest AGD')\n",
    "\n",
    "plt.grid(alpha=0.4)\n",
    "plt.legend()\n",
    "\n",
    "plt.title(f'$m = {m}, n = {n}, \\zeta = {zeta}$')\n",
    "plt.ylabel('$f(x^N) - f^*$ (log-scale)')\n",
    "plt.ylim(top=state_agd['f'][0] - f_opt)\n",
    "plt.xlabel('$N$')\n",
    "\n",
    "plt.tight_layout()\n",
    "plt.show()"
   ]
  },
  {
   "cell_type": "code",
   "execution_count": 20,
   "metadata": {},
   "outputs": [
    {
     "name": "stdout",
     "output_type": "stream",
     "text": [
      "f - f* after 800 solved subproblems:\n",
      "\n",
      "AGD: 0.15\n",
      "GD: 0.16\n",
      "Steepest GD: 0.3\n",
      "Steepest AGD: 0.31\n"
     ]
    }
   ],
   "source": [
    "print(f'f - f* after {limit_T} solved subproblems:\\n')\n",
    "print('AGD:', round(state_agd['f-all'][limit_T-1] - f_opt, 2))\n",
    "print('GD:', round(state_gd['f-all'][limit_T-1] - f_opt, 2))\n",
    "print('Steepest GD:', round(state_steepest_gd['f-all'][limit_T-1] - f_opt, 2))\n",
    "print('Steepest AGD:', round(state_steepest_agd['f-all'][limit_T-1] - f_opt, 2))"
   ]
  },
  {
   "cell_type": "code",
   "execution_count": 21,
   "metadata": {},
   "outputs": [
    {
     "name": "stdout",
     "output_type": "stream",
     "text": [
      "f - f* after 150 iterations:\n",
      "\n",
      "AGD: 0.17\n",
      "Steepest AGD: 0.19\n",
      "Steepest GD: 0.21\n",
      "GD: 0.27\n"
     ]
    }
   ],
   "source": [
    "print(f'f - f* after {limit_N} iterations:\\n')\n",
    "print('AGD:', round(state_agd['f'][limit_N-1] - f_opt, 2))\n",
    "print('Steepest AGD:', round(state_steepest_agd['f'][limit_N-1] - f_opt, 2))\n",
    "print('Steepest GD:', round(state_steepest_gd['f'][limit_N-1] - f_opt, 2))\n",
    "print('GD:', round(state_gd['f-all'][limit_N-1] - f_opt, 2))"
   ]
  },
  {
   "cell_type": "code",
   "execution_count": null,
   "metadata": {},
   "outputs": [],
   "source": []
  }
 ],
 "metadata": {
  "kernelspec": {
   "display_name": "Python 3",
   "language": "python",
   "name": "python3"
  },
  "language_info": {
   "codemirror_mode": {
    "name": "ipython",
    "version": 3
   },
   "file_extension": ".py",
   "mimetype": "text/x-python",
   "name": "python",
   "nbconvert_exporter": "python",
   "pygments_lexer": "ipython3",
   "version": "3.8.3"
  }
 },
 "nbformat": 4,
 "nbformat_minor": 4
}
